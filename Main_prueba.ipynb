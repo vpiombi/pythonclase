{
 "cells": [
  {
   "cell_type": "code",
   "execution_count": 1,
   "metadata": {},
   "outputs": [],
   "source": [
    "#pandas\n",
    "import pandas as pd\n",
    "import numpy as np"
   ]
  },
  {
   "cell_type": "markdown",
   "metadata": {},
   "source": [
    "*Cambiar datos de base de datos*"
   ]
  },
  {
   "cell_type": "code",
   "execution_count": 2,
   "metadata": {},
   "outputs": [
    {
     "name": "stdout",
     "output_type": "stream",
     "text": [
      "<class 'pandas.core.frame.DataFrame'>\n",
      "RangeIndex: 20803 entries, 0 to 20802\n",
      "Data columns (total 17 columns):\n",
      " #   Column       Non-Null Count  Dtype  \n",
      "---  ------       --------------  -----  \n",
      " 0   Unnamed: 0   20803 non-null  int64  \n",
      " 1   name         20803 non-null  object \n",
      " 2   url          20803 non-null  object \n",
      " 3   year         20536 non-null  float64\n",
      " 4   certificate  7903 non-null   object \n",
      " 5   rating       11600 non-null  float64\n",
      " 6   votes        11600 non-null  float64\n",
      " 7   plot         20803 non-null  object \n",
      " 8   Action       20803 non-null  bool   \n",
      " 9   Adventure    20803 non-null  bool   \n",
      " 10  Comedy       20803 non-null  bool   \n",
      " 11  Crime        20803 non-null  bool   \n",
      " 12  Family       20803 non-null  bool   \n",
      " 13  Fantasy      20803 non-null  bool   \n",
      " 14  Mystery      20803 non-null  bool   \n",
      " 15  Sci-Fi       20803 non-null  bool   \n",
      " 16  Thriller     20803 non-null  bool   \n",
      "dtypes: bool(9), float64(3), int64(1), object(4)\n",
      "memory usage: 1.4+ MB\n"
     ]
    },
    {
     "name": "stderr",
     "output_type": "stream",
     "text": [
      "C:\\Users\\totiv\\AppData\\Local\\Temp\\ipykernel_36504\\3496353144.py:5: DeprecationWarning: `np.float` is a deprecated alias for the builtin `float`. To silence this warning, use `float` by itself. Doing this will not modify any behavior and is safe. If you specifically wanted the numpy scalar type, use `np.float64` here.\n",
      "Deprecated in NumPy 1.20; for more details and guidance: https://numpy.org/devdocs/release/1.20.0-notes.html#deprecations\n",
      "  data['votes']= data['votes'].str.replace(',','').astype(np.float)\n"
     ]
    }
   ],
   "source": [
    "\n",
    "data = pd.read_csv('https://raw.githubusercontent.com/vpiombi/pythonclase/main/imdb-videogames.csv')\n",
    "\n",
    "\n",
    "\n",
    "data['votes']= data['votes'].str.replace(',','').astype(np.float)\n",
    "data['votes'] = data['votes'].round(2)\n",
    "\n",
    "data.loc[:,['votes']]\n",
    "\n",
    "data.info()\n",
    "\n"
   ]
  },
  {
   "cell_type": "markdown",
   "metadata": {},
   "source": [
    "Borrar columnas innecesarias"
   ]
  },
  {
   "cell_type": "code",
   "execution_count": 3,
   "metadata": {},
   "outputs": [
    {
     "name": "stdout",
     "output_type": "stream",
     "text": [
      "<class 'pandas.core.frame.DataFrame'>\n",
      "RangeIndex: 20803 entries, 0 to 20802\n",
      "Data columns (total 15 columns):\n",
      " #   Column       Non-Null Count  Dtype  \n",
      "---  ------       --------------  -----  \n",
      " 0   name         20803 non-null  object \n",
      " 1   year         20536 non-null  float64\n",
      " 2   certificate  7903 non-null   object \n",
      " 3   rating       11600 non-null  float64\n",
      " 4   votes        11600 non-null  float64\n",
      " 5   plot         20803 non-null  object \n",
      " 6   Action       20803 non-null  bool   \n",
      " 7   Adventure    20803 non-null  bool   \n",
      " 8   Comedy       20803 non-null  bool   \n",
      " 9   Crime        20803 non-null  bool   \n",
      " 10  Family       20803 non-null  bool   \n",
      " 11  Fantasy      20803 non-null  bool   \n",
      " 12  Mystery      20803 non-null  bool   \n",
      " 13  Sci-Fi       20803 non-null  bool   \n",
      " 14  Thriller     20803 non-null  bool   \n",
      "dtypes: bool(9), float64(3), object(3)\n",
      "memory usage: 1.1+ MB\n"
     ]
    }
   ],
   "source": [
    "data.drop(['Unnamed: 0', 'url'], axis=1, inplace=True)\n",
    "data.head()\n",
    "\n",
    "data.info()"
   ]
  }
 ],
 "metadata": {
  "kernelspec": {
   "display_name": "Python 3.8.10 64-bit (microsoft store)",
   "language": "python",
   "name": "python3"
  },
  "language_info": {
   "codemirror_mode": {
    "name": "ipython",
    "version": 3
   },
   "file_extension": ".py",
   "mimetype": "text/x-python",
   "name": "python",
   "nbconvert_exporter": "python",
   "pygments_lexer": "ipython3",
   "version": "3.8.10"
  },
  "orig_nbformat": 4,
  "vscode": {
   "interpreter": {
    "hash": "391731cd08c21774300f03410e99f97511beba3fa201bd17c65488334f5379ea"
   }
  }
 },
 "nbformat": 4,
 "nbformat_minor": 2
}
